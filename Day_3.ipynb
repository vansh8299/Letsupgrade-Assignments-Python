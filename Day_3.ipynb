{
  "nbformat": 4,
  "nbformat_minor": 0,
  "metadata": {
    "colab": {
      "name": "Day 3.ipynb",
      "provenance": [],
      "collapsed_sections": []
    },
    "kernelspec": {
      "name": "python3",
      "display_name": "Python 3"
    },
    "language_info": {
      "name": "python"
    }
  },
  "cells": [
    {
      "cell_type": "code",
      "execution_count": 1,
      "metadata": {
        "colab": {
          "base_uri": "https://localhost:8080/"
        },
        "id": "iSENZgxr5q_r",
        "outputId": "c3819f05-b872-4bd2-ef8e-34d4b9f7ee05"
      },
      "outputs": [
        {
          "output_type": "stream",
          "name": "stdout",
          "text": [
            "USA\n"
          ]
        }
      ],
      "source": [
        "names={\"India\":10,\"USA\":90,\"UK\":78}\n",
        "max=0\n",
        "str=\"\"\n",
        "for i in names:\n",
        "    for j in i:\n",
        "        if names [i] > max:\n",
        "            str=i\n",
        "            max= names[i]\n",
        "print(str)"
      ]
    }
  ]
}