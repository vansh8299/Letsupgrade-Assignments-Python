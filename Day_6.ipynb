{
  "nbformat": 4,
  "nbformat_minor": 0,
  "metadata": {
    "colab": {
      "name": "Day 6.ipynb",
      "provenance": [],
      "collapsed_sections": []
    },
    "kernelspec": {
      "name": "python3",
      "display_name": "Python 3"
    },
    "language_info": {
      "name": "python"
    }
  },
  "cells": [
    {
      "cell_type": "code",
      "execution_count": 5,
      "metadata": {
        "colab": {
          "base_uri": "https://localhost:8080/"
        },
        "id": "iSENZgxr5q_r",
        "outputId": "ed947dc2-6199-42fc-ca3c-41eee57de83c"
      },
      "outputs": [
        {
          "output_type": "stream",
          "name": "stdout",
          "text": [
            "Enter two Nunbers: 5 6\n",
            "1\n"
          ]
        }
      ],
      "source": [
        "def mod_div(fun):\n",
        "\tdef deno(a, b):\n",
        "\t\tif a < b :\n",
        "\t\t\ta, b = b, a\n",
        "\t\treturn fun(a, b)\n",
        "\treturn deno\n",
        "\t\n",
        "@mod_div\n",
        "def div(a, b):\n",
        "\treturn  a // b\n",
        "\n",
        "a, b = (int(i) for i in input(\"Enter two Nunbers: \").split())\n",
        "\n",
        "\n",
        "print(div(a, b))"
      ]
    }
  ]
}