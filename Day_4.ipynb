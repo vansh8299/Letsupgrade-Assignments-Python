{
  "nbformat": 4,
  "nbformat_minor": 0,
  "metadata": {
    "colab": {
      "name": "Day 4.ipynb",
      "provenance": [],
      "collapsed_sections": []
    },
    "kernelspec": {
      "name": "python3",
      "display_name": "Python 3"
    },
    "language_info": {
      "name": "python"
    }
  },
  "cells": [
    {
      "cell_type": "code",
      "execution_count": 2,
      "metadata": {
        "colab": {
          "base_uri": "https://localhost:8080/"
        },
        "id": "iSENZgxr5q_r",
        "outputId": "96ed7020-e248-452f-8363-3af5a8cde8c0"
      },
      "outputs": [
        {
          "output_type": "stream",
          "name": "stdout",
          "text": [
            "Enter no. here : 5\n",
            "120\n"
          ]
        }
      ],
      "source": [
        "n = int(input(\"Enter no. here : \"))\n",
        "def factorial_iter(n):\n",
        "    product = 1\n",
        "    for i in range(n):\n",
        "        product = product * (i+1)\n",
        "    return product\n",
        "\n",
        "f = factorial_iter(n)\n",
        "print(f)"
      ]
    }
  ]
}