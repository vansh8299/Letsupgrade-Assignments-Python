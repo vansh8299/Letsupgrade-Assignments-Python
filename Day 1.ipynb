{
  "nbformat": 4,
  "nbformat_minor": 0,
  "metadata": {
    "colab": {
      "name": "Letsupgrade python",
      "provenance": [],
      "collapsed_sections": []
    },
    "kernelspec": {
      "name": "python3",
      "display_name": "Python 3"
    },
    "language_info": {
      "name": "python"
    }
  },
  "cells": [
    {
      "cell_type": "code",
      "source": [
        "x = [int(i) for i in input('Enter integer values: ').split()]\n",
        "\n",
        "sum = 0\n",
        "for j in x:\n",
        "  sum += j\n",
        "  \n",
        "  print(sum)"
      ],
      "metadata": {
        "colab": {
          "base_uri": "https://localhost:8080/"
        },
        "id": "sBOqfuJDoCLe",
        "outputId": "20c416f7-02a4-41e8-f1b1-e7d4e0d0c3a1"
      },
      "execution_count": 5,
      "outputs": [
        {
          "output_type": "stream",
          "name": "stdout",
          "text": [
            "Enter integer values: 10 20 30 40 50\n",
            "10\n",
            "30\n",
            "60\n",
            "100\n",
            "150\n"
          ]
        }
      ]
    },
    {
      "cell_type": "code",
      "execution_count": null,
      "metadata": {
        "id": "kSObOT1kkGPI"
      },
      "outputs": [],
      "source": [
        ""
      ]
    }
  ]
}