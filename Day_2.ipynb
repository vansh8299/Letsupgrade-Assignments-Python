{
  "nbformat": 4,
  "nbformat_minor": 0,
  "metadata": {
    "colab": {
      "name": "Day 2.ipynb",
      "provenance": []
    },
    "kernelspec": {
      "name": "python3",
      "display_name": "Python 3"
    },
    "language_info": {
      "name": "python"
    }
  },
  "cells": [
    {
      "cell_type": "code",
      "execution_count": 2,
      "metadata": {
        "colab": {
          "base_uri": "https://localhost:8080/"
        },
        "id": "-RUQM4OXaX0h",
        "outputId": "e08d6e69-9c13-49b7-b57a-4447b7fd8933"
      },
      "outputs": [
        {
          "output_type": "stream",
          "name": "stdout",
          "text": [
            "enter a letter: e\n",
            "you get the prize\n"
          ]
        }
      ],
      "source": [
        "a=\"hello coders\"\n",
        "inp=input(\"enter a letter: \")\n",
        "if inp==a[0].lower() or inp==a[1].lower() or inp==a[4].lower() or inp==a[6].lower() or inp==a[8].lower():\n",
        "    print(\"you get the prize\")\n",
        "else:\n",
        "    print(\"you are guessing is wrong\")"
      ]
    }
  ]
}